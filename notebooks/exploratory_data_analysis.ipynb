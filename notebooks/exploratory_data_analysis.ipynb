{
 "cells": [
  {
   "cell_type": "code",
   "execution_count": null,
   "metadata": {},
   "outputs": [],
   "source": [
    "# Libraries import\n",
    "import pandas as pd\n",
    "import numpy as np\n",
    "import matplotlib.pyplot as plt\n",
    "import seaborn as sns\n",
    "\n",
    "# Plot styles\n",
    "sns.set_theme(style='whitegrid')\n",
    "%matplotlib inline\n",
    "\n",
    "# Load preprocessed data\n",
    "features = pd.read_csv('../data/processed/features.csv', index_col='Date', parse_dates=True)\n",
    "\n",
    "# Displays the first few rows\n",
    "features.head()"
   ]
  },
  {
   "cell_type": "code",
   "execution_count": null,
   "metadata": {},
   "outputs": [],
   "source": [
    "# Plots rolling correlation\n",
    "plt.figure(figsize=(12, 6))\n",
    "plt.plot(features.index, features['Rolling_Corr'], label='Rolling Correlation (30-day window)', color='blue')\n",
    "plt.title('Rolling Correlation between VOO and VNQ')\n",
    "plt.xlabel('Date')\n",
    "plt.ylabel('Correlation Coefficient')\n",
    "plt.legend()\n",
    "plt.tight_layout()\n",
    "plt.show()"
   ]
  },
  {
   "cell_type": "code",
   "execution_count": null,
   "metadata": {},
   "outputs": [],
   "source": [
    "# Plots VOO and VNQ returns\n",
    "plt.figure(figsize=(12, 6))\n",
    "plt.plot(features.index, features['VOO_Returns'], label='VOO Daily Returns', color='green', alpha=0.7)\n",
    "plt.plot(features.index, features['VNQ_Returns'], label='VNQ Daily Returns', color='red', alpha=0.7)\n",
    "plt.title('VOO vs. VNQ Daily Returns')\n",
    "plt.xlabel('Date')\n",
    "plt.ylabel('Return')\n",
    "plt.legend()\n",
    "plt.tight_layout()\n",
    "plt.show()"
   ]
  },
  {
   "cell_type": "code",
   "execution_count": null,
   "metadata": {},
   "outputs": [],
   "source": [
    "# Plots VIX levels\n",
    "plt.figure(figsize=(12, 6))\n",
    "plt.plot(features.index, features['VIX'], label='VIX Index', color='purple')\n",
    "plt.title('VIX Index Levels Over Time')\n",
    "plt.xlabel('Date')\n",
    "plt.ylabel('VIX Level')\n",
    "plt.legend()\n",
    "plt.tight_layout()\n",
    "plt.show()"
   ]
  },
  {
   "cell_type": "code",
   "execution_count": null,
   "metadata": {},
   "outputs": [],
   "source": [
    "fig, ax1 = plt.subplots(figsize=(12, 6))\n",
    "\n",
    "# Plots Rolling Correlation\n",
    "color = 'tab:blue'\n",
    "ax1.set_xlabel('Date')\n",
    "ax1.set_ylabel('Rolling Correlation', color=color)\n",
    "ax1.plot(features.index, features['Rolling_Corr'], label='Rolling Correlation', color=color)\n",
    "ax1.tick_params(axis='y', labelcolor=color)\n",
    "\n",
    "# A second axes that shares the same x-axis\n",
    "ax2 = ax1.twinx()\n",
    "\n",
    "# Plots VIX Index\n",
    "color = 'tab:purple'\n",
    "ax2.set_ylabel('VIX Index', color=color)\n",
    "ax2.plot(features.index, features['VIX'], label='VIX Index', color=color, alpha=0.6)\n",
    "ax2.tick_params(axis='y', labelcolor=color)\n",
    "\n",
    "# Add titles and legends\n",
    "plt.title('Rolling Correlation and VIX Index Over Time')\n",
    "fig.tight_layout()\n",
    "plt.show()"
   ]
  }
 ],
 "metadata": {
  "language_info": {
   "name": "python"
  }
 },
 "nbformat": 4,
 "nbformat_minor": 2
}
